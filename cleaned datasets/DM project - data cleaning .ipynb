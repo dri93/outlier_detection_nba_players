{
 "cells": [
  {
   "cell_type": "markdown",
   "metadata": {},
   "source": [
    "## players.csv dataset"
   ]
  },
  {
   "cell_type": "code",
   "execution_count": 41,
   "metadata": {},
   "outputs": [],
   "source": [
    "import pandas as pd\n",
    "import numpy as np\n",
    "\n",
    "\n",
    "df = pd.read_csv(\"players.csv\")player_allstar.csv"
   ]
  },
  {
   "cell_type": "code",
   "execution_count": 42,
   "metadata": {},
   "outputs": [
    {
     "data": {
      "text/plain": [
       "Index(['ilkid', 'firstname', 'lastname', 'position', 'firstseason',\n",
       "       'lastseason', 'h_feet', 'h_inches', 'weight', 'college', 'birthdate'],\n",
       "      dtype='object')"
      ]
     },
     "execution_count": 42,
     "metadata": {},
     "output_type": "execute_result"
    }
   ],
   "source": [
    "df.columns"
   ]
  },
  {
   "cell_type": "code",
   "execution_count": 43,
   "metadata": {},
   "outputs": [
    {
     "data": {
      "text/plain": [
       "ilkid           object\n",
       "firstname       object\n",
       "lastname        object\n",
       "position        object\n",
       "firstseason      int64\n",
       "lastseason       int64\n",
       "h_feet         float64\n",
       "h_inches       float64\n",
       "weight         float64\n",
       "college         object\n",
       "birthdate       object\n",
       "dtype: object"
      ]
     },
     "execution_count": 43,
     "metadata": {},
     "output_type": "execute_result"
    }
   ],
   "source": [
    "df.dtypes"
   ]
  },
  {
   "cell_type": "code",
   "execution_count": 44,
   "metadata": {},
   "outputs": [
    {
     "data": {
      "text/html": [
       "<div>\n",
       "<style scoped>\n",
       "    .dataframe tbody tr th:only-of-type {\n",
       "        vertical-align: middle;\n",
       "    }\n",
       "\n",
       "    .dataframe tbody tr th {\n",
       "        vertical-align: top;\n",
       "    }\n",
       "\n",
       "    .dataframe thead th {\n",
       "        text-align: right;\n",
       "    }\n",
       "</style>\n",
       "<table border=\"1\" class=\"dataframe\">\n",
       "  <thead>\n",
       "    <tr style=\"text-align: right;\">\n",
       "      <th></th>\n",
       "      <th>ilkid</th>\n",
       "      <th>firstname</th>\n",
       "      <th>lastname</th>\n",
       "      <th>position</th>\n",
       "      <th>firstseason</th>\n",
       "      <th>lastseason</th>\n",
       "      <th>h_feet</th>\n",
       "      <th>h_inches</th>\n",
       "      <th>weight</th>\n",
       "      <th>college</th>\n",
       "      <th>birthdate</th>\n",
       "    </tr>\n",
       "  </thead>\n",
       "  <tbody>\n",
       "    <tr>\n",
       "      <th>0</th>\n",
       "      <td>False</td>\n",
       "      <td>False</td>\n",
       "      <td>False</td>\n",
       "      <td>False</td>\n",
       "      <td>False</td>\n",
       "      <td>False</td>\n",
       "      <td>False</td>\n",
       "      <td>False</td>\n",
       "      <td>False</td>\n",
       "      <td>False</td>\n",
       "      <td>False</td>\n",
       "    </tr>\n",
       "    <tr>\n",
       "      <th>1</th>\n",
       "      <td>False</td>\n",
       "      <td>False</td>\n",
       "      <td>False</td>\n",
       "      <td>False</td>\n",
       "      <td>False</td>\n",
       "      <td>False</td>\n",
       "      <td>False</td>\n",
       "      <td>False</td>\n",
       "      <td>False</td>\n",
       "      <td>False</td>\n",
       "      <td>False</td>\n",
       "    </tr>\n",
       "    <tr>\n",
       "      <th>2</th>\n",
       "      <td>False</td>\n",
       "      <td>False</td>\n",
       "      <td>False</td>\n",
       "      <td>False</td>\n",
       "      <td>False</td>\n",
       "      <td>False</td>\n",
       "      <td>False</td>\n",
       "      <td>False</td>\n",
       "      <td>False</td>\n",
       "      <td>False</td>\n",
       "      <td>False</td>\n",
       "    </tr>\n",
       "    <tr>\n",
       "      <th>3</th>\n",
       "      <td>False</td>\n",
       "      <td>False</td>\n",
       "      <td>False</td>\n",
       "      <td>False</td>\n",
       "      <td>False</td>\n",
       "      <td>False</td>\n",
       "      <td>False</td>\n",
       "      <td>False</td>\n",
       "      <td>False</td>\n",
       "      <td>False</td>\n",
       "      <td>False</td>\n",
       "    </tr>\n",
       "    <tr>\n",
       "      <th>4</th>\n",
       "      <td>False</td>\n",
       "      <td>False</td>\n",
       "      <td>False</td>\n",
       "      <td>False</td>\n",
       "      <td>False</td>\n",
       "      <td>False</td>\n",
       "      <td>False</td>\n",
       "      <td>False</td>\n",
       "      <td>False</td>\n",
       "      <td>False</td>\n",
       "      <td>False</td>\n",
       "    </tr>\n",
       "    <tr>\n",
       "      <th>...</th>\n",
       "      <td>...</td>\n",
       "      <td>...</td>\n",
       "      <td>...</td>\n",
       "      <td>...</td>\n",
       "      <td>...</td>\n",
       "      <td>...</td>\n",
       "      <td>...</td>\n",
       "      <td>...</td>\n",
       "      <td>...</td>\n",
       "      <td>...</td>\n",
       "      <td>...</td>\n",
       "    </tr>\n",
       "    <tr>\n",
       "      <th>3567</th>\n",
       "      <td>False</td>\n",
       "      <td>False</td>\n",
       "      <td>False</td>\n",
       "      <td>False</td>\n",
       "      <td>False</td>\n",
       "      <td>False</td>\n",
       "      <td>False</td>\n",
       "      <td>False</td>\n",
       "      <td>False</td>\n",
       "      <td>False</td>\n",
       "      <td>False</td>\n",
       "    </tr>\n",
       "    <tr>\n",
       "      <th>3568</th>\n",
       "      <td>False</td>\n",
       "      <td>False</td>\n",
       "      <td>False</td>\n",
       "      <td>False</td>\n",
       "      <td>False</td>\n",
       "      <td>False</td>\n",
       "      <td>False</td>\n",
       "      <td>False</td>\n",
       "      <td>False</td>\n",
       "      <td>False</td>\n",
       "      <td>False</td>\n",
       "    </tr>\n",
       "    <tr>\n",
       "      <th>3569</th>\n",
       "      <td>False</td>\n",
       "      <td>False</td>\n",
       "      <td>False</td>\n",
       "      <td>False</td>\n",
       "      <td>False</td>\n",
       "      <td>False</td>\n",
       "      <td>False</td>\n",
       "      <td>False</td>\n",
       "      <td>False</td>\n",
       "      <td>False</td>\n",
       "      <td>False</td>\n",
       "    </tr>\n",
       "    <tr>\n",
       "      <th>3570</th>\n",
       "      <td>False</td>\n",
       "      <td>False</td>\n",
       "      <td>False</td>\n",
       "      <td>False</td>\n",
       "      <td>False</td>\n",
       "      <td>False</td>\n",
       "      <td>False</td>\n",
       "      <td>False</td>\n",
       "      <td>False</td>\n",
       "      <td>False</td>\n",
       "      <td>False</td>\n",
       "    </tr>\n",
       "    <tr>\n",
       "      <th>3571</th>\n",
       "      <td>False</td>\n",
       "      <td>False</td>\n",
       "      <td>False</td>\n",
       "      <td>False</td>\n",
       "      <td>False</td>\n",
       "      <td>False</td>\n",
       "      <td>False</td>\n",
       "      <td>False</td>\n",
       "      <td>False</td>\n",
       "      <td>False</td>\n",
       "      <td>False</td>\n",
       "    </tr>\n",
       "  </tbody>\n",
       "</table>\n",
       "<p>3572 rows × 11 columns</p>\n",
       "</div>"
      ],
      "text/plain": [
       "      ilkid  firstname  lastname  position  firstseason  lastseason  h_feet  \\\n",
       "0     False      False     False     False        False       False   False   \n",
       "1     False      False     False     False        False       False   False   \n",
       "2     False      False     False     False        False       False   False   \n",
       "3     False      False     False     False        False       False   False   \n",
       "4     False      False     False     False        False       False   False   \n",
       "...     ...        ...       ...       ...          ...         ...     ...   \n",
       "3567  False      False     False     False        False       False   False   \n",
       "3568  False      False     False     False        False       False   False   \n",
       "3569  False      False     False     False        False       False   False   \n",
       "3570  False      False     False     False        False       False   False   \n",
       "3571  False      False     False     False        False       False   False   \n",
       "\n",
       "      h_inches  weight  college  birthdate  \n",
       "0        False   False    False      False  \n",
       "1        False   False    False      False  \n",
       "2        False   False    False      False  \n",
       "3        False   False    False      False  \n",
       "4        False   False    False      False  \n",
       "...        ...     ...      ...        ...  \n",
       "3567     False   False    False      False  \n",
       "3568     False   False    False      False  \n",
       "3569     False   False    False      False  \n",
       "3570     False   False    False      False  \n",
       "3571     False   False    False      False  \n",
       "\n",
       "[3572 rows x 11 columns]"
      ]
     },
     "execution_count": 44,
     "metadata": {},
     "output_type": "execute_result"
    }
   ],
   "source": [
    "df.isnull()"
   ]
  },
  {
   "cell_type": "code",
   "execution_count": 45,
   "metadata": {},
   "outputs": [
    {
     "data": {
      "text/plain": [
       "ilkid          False\n",
       "firstname      False\n",
       "lastname       False\n",
       "position       False\n",
       "firstseason    False\n",
       "lastseason     False\n",
       "h_feet          True\n",
       "h_inches        True\n",
       "weight          True\n",
       "college         True\n",
       "birthdate       True\n",
       "dtype: bool"
      ]
     },
     "execution_count": 45,
     "metadata": {},
     "output_type": "execute_result"
    }
   ],
   "source": [
    "df.isnull().any()"
   ]
  },
  {
   "cell_type": "code",
   "execution_count": 46,
   "metadata": {},
   "outputs": [
    {
     "data": {
      "text/plain": [
       "ilkid           0\n",
       "firstname       0\n",
       "lastname        0\n",
       "position        0\n",
       "firstseason     0\n",
       "lastseason      0\n",
       "h_feet          9\n",
       "h_inches        9\n",
       "weight         15\n",
       "college        56\n",
       "birthdate      11\n",
       "dtype: int64"
      ]
     },
     "execution_count": 46,
     "metadata": {},
     "output_type": "execute_result"
    }
   ],
   "source": [
    "df.isnull().sum()"
   ]
  },
  {
   "cell_type": "code",
   "execution_count": 47,
   "metadata": {},
   "outputs": [],
   "source": [
    "# Filling missing values with the mode value of the colomn\n",
    "\n",
    "cateogry_columns=df.select_dtypes(include=['object']).columns.tolist()\n",
    "integer_columns=df.select_dtypes(include=['int64','float64']).columns.tolist()\n",
    "\n",
    "for column in df:\n",
    "    if df[column].isnull().any():\n",
    "        if(column in cateogry_columns):\n",
    "            df[column]=df[column].fillna(df[column].mode()[0])\n",
    "        else:\n",
    "            df[column]=df[column].fillna(df[column].mode()[0])"
   ]
  },
  {
   "cell_type": "code",
   "execution_count": 49,
   "metadata": {},
   "outputs": [
    {
     "data": {
      "text/html": [
       "<div>\n",
       "<style scoped>\n",
       "    .dataframe tbody tr th:only-of-type {\n",
       "        vertical-align: middle;\n",
       "    }\n",
       "\n",
       "    .dataframe tbody tr th {\n",
       "        vertical-align: top;\n",
       "    }\n",
       "\n",
       "    .dataframe thead th {\n",
       "        text-align: right;\n",
       "    }\n",
       "</style>\n",
       "<table border=\"1\" class=\"dataframe\">\n",
       "  <thead>\n",
       "    <tr style=\"text-align: right;\">\n",
       "      <th></th>\n",
       "      <th>ilkid</th>\n",
       "      <th>firstname</th>\n",
       "      <th>lastname</th>\n",
       "      <th>position</th>\n",
       "      <th>firstseason</th>\n",
       "      <th>lastseason</th>\n",
       "      <th>h_feet</th>\n",
       "      <th>h_inches</th>\n",
       "      <th>weight</th>\n",
       "      <th>college</th>\n",
       "      <th>birthdate</th>\n",
       "    </tr>\n",
       "  </thead>\n",
       "  <tbody>\n",
       "    <tr>\n",
       "      <th>0</th>\n",
       "      <td>ABDELAL01</td>\n",
       "      <td>Alaa</td>\n",
       "      <td>Abdelnaby</td>\n",
       "      <td>F</td>\n",
       "      <td>1990</td>\n",
       "      <td>1994</td>\n",
       "      <td>6.0</td>\n",
       "      <td>10.0</td>\n",
       "      <td>240.0</td>\n",
       "      <td>Duke</td>\n",
       "      <td>1968-06-24 00:00:00</td>\n",
       "    </tr>\n",
       "    <tr>\n",
       "      <th>1</th>\n",
       "      <td>ABDULKA01</td>\n",
       "      <td>Kareem</td>\n",
       "      <td>Abdul-jabbar</td>\n",
       "      <td>C</td>\n",
       "      <td>1969</td>\n",
       "      <td>1988</td>\n",
       "      <td>7.0</td>\n",
       "      <td>2.0</td>\n",
       "      <td>225.0</td>\n",
       "      <td>UCLA</td>\n",
       "      <td>1947-04-16 00:00:00</td>\n",
       "    </tr>\n",
       "    <tr>\n",
       "      <th>2</th>\n",
       "      <td>ABDULMA01</td>\n",
       "      <td>Mahmo</td>\n",
       "      <td>Abdul-rauf</td>\n",
       "      <td>G</td>\n",
       "      <td>1990</td>\n",
       "      <td>2000</td>\n",
       "      <td>6.0</td>\n",
       "      <td>1.0</td>\n",
       "      <td>162.0</td>\n",
       "      <td>LSU</td>\n",
       "      <td>1969-03-09 00:00:00</td>\n",
       "    </tr>\n",
       "    <tr>\n",
       "      <th>3</th>\n",
       "      <td>ABDULTA01</td>\n",
       "      <td>Tariq</td>\n",
       "      <td>Abdul-wahad</td>\n",
       "      <td>G</td>\n",
       "      <td>1997</td>\n",
       "      <td>2002</td>\n",
       "      <td>6.0</td>\n",
       "      <td>6.0</td>\n",
       "      <td>223.0</td>\n",
       "      <td>Michigan</td>\n",
       "      <td>1974-11-03 00:00:00</td>\n",
       "    </tr>\n",
       "    <tr>\n",
       "      <th>4</th>\n",
       "      <td>ABDURSH01</td>\n",
       "      <td>Shareef</td>\n",
       "      <td>Abdur-rahim</td>\n",
       "      <td>F</td>\n",
       "      <td>1996</td>\n",
       "      <td>2004</td>\n",
       "      <td>6.0</td>\n",
       "      <td>9.0</td>\n",
       "      <td>225.0</td>\n",
       "      <td>California</td>\n",
       "      <td>1976-12-11 00:00:00</td>\n",
       "    </tr>\n",
       "    <tr>\n",
       "      <th>...</th>\n",
       "      <td>...</td>\n",
       "      <td>...</td>\n",
       "      <td>...</td>\n",
       "      <td>...</td>\n",
       "      <td>...</td>\n",
       "      <td>...</td>\n",
       "      <td>...</td>\n",
       "      <td>...</td>\n",
       "      <td>...</td>\n",
       "      <td>...</td>\n",
       "      <td>...</td>\n",
       "    </tr>\n",
       "    <tr>\n",
       "      <th>687</th>\n",
       "      <td>DANTLAD01</td>\n",
       "      <td>Adrian</td>\n",
       "      <td>Dantley</td>\n",
       "      <td>F</td>\n",
       "      <td>1976</td>\n",
       "      <td>1990</td>\n",
       "      <td>6.0</td>\n",
       "      <td>5.0</td>\n",
       "      <td>208.0</td>\n",
       "      <td>Notre Dame</td>\n",
       "      <td>1956-02-28 00:00:00</td>\n",
       "    </tr>\n",
       "    <tr>\n",
       "      <th>688</th>\n",
       "      <td>DANTOMI01</td>\n",
       "      <td>Mike</td>\n",
       "      <td>Dantoni</td>\n",
       "      <td>G</td>\n",
       "      <td>1975</td>\n",
       "      <td>1975</td>\n",
       "      <td>6.0</td>\n",
       "      <td>7.0</td>\n",
       "      <td>210.0</td>\n",
       "      <td>UCLA</td>\n",
       "      <td>1945-01-01 00:00:00</td>\n",
       "    </tr>\n",
       "    <tr>\n",
       "      <th>689</th>\n",
       "      <td>DARCEHE01</td>\n",
       "      <td>Henry</td>\n",
       "      <td>Darcey</td>\n",
       "      <td>C</td>\n",
       "      <td>1952</td>\n",
       "      <td>1952</td>\n",
       "      <td>6.0</td>\n",
       "      <td>7.0</td>\n",
       "      <td>217.0</td>\n",
       "      <td>Oklahoma A&amp;M</td>\n",
       "      <td>1930-03-03 00:00:00</td>\n",
       "    </tr>\n",
       "    <tr>\n",
       "      <th>690</th>\n",
       "      <td>DARDEJI01</td>\n",
       "      <td>Jimmy</td>\n",
       "      <td>Darden</td>\n",
       "      <td>G</td>\n",
       "      <td>1949</td>\n",
       "      <td>1949</td>\n",
       "      <td>6.0</td>\n",
       "      <td>1.0</td>\n",
       "      <td>170.0</td>\n",
       "      <td>Denver</td>\n",
       "      <td>1922-06-19 00:00:00</td>\n",
       "    </tr>\n",
       "    <tr>\n",
       "      <th>691</th>\n",
       "      <td>DARDEOL01</td>\n",
       "      <td>Oliver</td>\n",
       "      <td>Darden</td>\n",
       "      <td>F</td>\n",
       "      <td>1967</td>\n",
       "      <td>1969</td>\n",
       "      <td>6.0</td>\n",
       "      <td>6.5</td>\n",
       "      <td>235.0</td>\n",
       "      <td>Michigan</td>\n",
       "      <td>1944-07-28 00:00:00</td>\n",
       "    </tr>\n",
       "  </tbody>\n",
       "</table>\n",
       "<p>692 rows × 11 columns</p>\n",
       "</div>"
      ],
      "text/plain": [
       "         ilkid firstname      lastname position  firstseason  lastseason  \\\n",
       "0    ABDELAL01      Alaa     Abdelnaby        F         1990        1994   \n",
       "1    ABDULKA01    Kareem  Abdul-jabbar        C         1969        1988   \n",
       "2    ABDULMA01     Mahmo    Abdul-rauf        G         1990        2000   \n",
       "3    ABDULTA01     Tariq   Abdul-wahad        G         1997        2002   \n",
       "4    ABDURSH01   Shareef   Abdur-rahim        F         1996        2004   \n",
       "..         ...       ...           ...      ...          ...         ...   \n",
       "687  DANTLAD01    Adrian       Dantley        F         1976        1990   \n",
       "688  DANTOMI01      Mike       Dantoni        G         1975        1975   \n",
       "689  DARCEHE01     Henry        Darcey        C         1952        1952   \n",
       "690  DARDEJI01     Jimmy        Darden        G         1949        1949   \n",
       "691  DARDEOL01    Oliver        Darden        F         1967        1969   \n",
       "\n",
       "     h_feet  h_inches  weight       college            birthdate  \n",
       "0       6.0      10.0   240.0          Duke  1968-06-24 00:00:00  \n",
       "1       7.0       2.0   225.0          UCLA  1947-04-16 00:00:00  \n",
       "2       6.0       1.0   162.0           LSU  1969-03-09 00:00:00  \n",
       "3       6.0       6.0   223.0      Michigan  1974-11-03 00:00:00  \n",
       "4       6.0       9.0   225.0    California  1976-12-11 00:00:00  \n",
       "..      ...       ...     ...           ...                  ...  \n",
       "687     6.0       5.0   208.0    Notre Dame  1956-02-28 00:00:00  \n",
       "688     6.0       7.0   210.0          UCLA  1945-01-01 00:00:00  \n",
       "689     6.0       7.0   217.0  Oklahoma A&M  1930-03-03 00:00:00  \n",
       "690     6.0       1.0   170.0        Denver  1922-06-19 00:00:00  \n",
       "691     6.0       6.5   235.0      Michigan  1944-07-28 00:00:00  \n",
       "\n",
       "[692 rows x 11 columns]"
      ]
     },
     "execution_count": 49,
     "metadata": {},
     "output_type": "execute_result"
    }
   ],
   "source": [
    "df.head(692)"
   ]
  },
  {
   "cell_type": "code",
   "execution_count": 50,
   "metadata": {},
   "outputs": [
    {
     "data": {
      "text/plain": [
       "ilkid          0\n",
       "firstname      0\n",
       "lastname       0\n",
       "position       0\n",
       "firstseason    0\n",
       "lastseason     0\n",
       "h_feet         0\n",
       "h_inches       0\n",
       "weight         0\n",
       "college        0\n",
       "birthdate      0\n",
       "dtype: int64"
      ]
     },
     "execution_count": 50,
     "metadata": {},
     "output_type": "execute_result"
    }
   ],
   "source": [
    "df.isnull().sum()"
   ]
  },
  {
   "cell_type": "code",
   "execution_count": 51,
   "metadata": {},
   "outputs": [],
   "source": [
    "# Removing duplicate rows\n",
    "\n",
    "df = df.drop_duplicates()"
   ]
  },
  {
   "cell_type": "code",
   "execution_count": 57,
   "metadata": {},
   "outputs": [],
   "source": [
    "df.to_csv(\"players.csv\")"
   ]
  },
  {
   "cell_type": "markdown",
   "metadata": {},
   "source": [
    "## player_allstar.csv dataset"
   ]
  },
  {
   "cell_type": "code",
   "execution_count": 69,
   "metadata": {},
   "outputs": [],
   "source": [
    "df = pd.read_csv(\"player_allstar.csv\")"
   ]
  },
  {
   "cell_type": "code",
   "execution_count": 71,
   "metadata": {},
   "outputs": [
    {
     "data": {
      "text/plain": [
       "Index(['ilkid', 'year', 'firstname', 'lastname', 'conference', 'leag', 'gp',\n",
       "       'minutes', 'pts', 'dreb', 'oreb', 'reb', 'asts', 'stl', 'blk',\n",
       "       'turnover', 'pf', 'fga', 'fgm', 'fta', 'ftm', 'tpa', 'tpm'],\n",
       "      dtype='object')"
      ]
     },
     "execution_count": 71,
     "metadata": {},
     "output_type": "execute_result"
    }
   ],
   "source": [
    "df.columns"
   ]
  },
  {
   "cell_type": "code",
   "execution_count": 72,
   "metadata": {},
   "outputs": [
    {
     "data": {
      "text/plain": [
       "ilkid          object\n",
       "year            int64\n",
       "firstname      object\n",
       "lastname       object\n",
       "conference     object\n",
       "leag           object\n",
       "gp              int64\n",
       "minutes         int64\n",
       "pts           float64\n",
       "dreb          float64\n",
       "oreb          float64\n",
       "reb           float64\n",
       "asts          float64\n",
       "stl           float64\n",
       "blk           float64\n",
       "turnover      float64\n",
       "pf            float64\n",
       "fga           float64\n",
       "fgm           float64\n",
       "fta           float64\n",
       "ftm           float64\n",
       "tpa           float64\n",
       "tpm           float64\n",
       "dtype: object"
      ]
     },
     "execution_count": 72,
     "metadata": {},
     "output_type": "execute_result"
    }
   ],
   "source": [
    "df.dtypes"
   ]
  },
  {
   "cell_type": "code",
   "execution_count": 73,
   "metadata": {},
   "outputs": [
    {
     "data": {
      "text/plain": [
       "ilkid            0\n",
       "year             0\n",
       "firstname        0\n",
       "lastname         0\n",
       "conference       0\n",
       "leag             0\n",
       "gp               0\n",
       "minutes          0\n",
       "pts             48\n",
       "dreb          1139\n",
       "oreb          1139\n",
       "reb             48\n",
       "asts            48\n",
       "stl           1234\n",
       "blk           1234\n",
       "turnover      1139\n",
       "pf            1092\n",
       "fga             48\n",
       "fgm             48\n",
       "fta             48\n",
       "ftm             48\n",
       "tpa           1092\n",
       "tpm           1092\n",
       "dtype: int64"
      ]
     },
     "execution_count": 73,
     "metadata": {},
     "output_type": "execute_result"
    }
   ],
   "source": [
    "df.isnull().sum()"
   ]
  },
  {
   "cell_type": "code",
   "execution_count": 74,
   "metadata": {},
   "outputs": [],
   "source": [
    "# Filling missing values with zeros\n",
    "\n",
    "df.fillna(0, inplace=True)"
   ]
  },
  {
   "cell_type": "code",
   "execution_count": 75,
   "metadata": {},
   "outputs": [
    {
     "data": {
      "text/plain": [
       "ilkid         0\n",
       "year          0\n",
       "firstname     0\n",
       "lastname      0\n",
       "conference    0\n",
       "leag          0\n",
       "gp            0\n",
       "minutes       0\n",
       "pts           0\n",
       "dreb          0\n",
       "oreb          0\n",
       "reb           0\n",
       "asts          0\n",
       "stl           0\n",
       "blk           0\n",
       "turnover      0\n",
       "pf            0\n",
       "fga           0\n",
       "fgm           0\n",
       "fta           0\n",
       "ftm           0\n",
       "tpa           0\n",
       "tpm           0\n",
       "dtype: int64"
      ]
     },
     "execution_count": 75,
     "metadata": {},
     "output_type": "execute_result"
    }
   ],
   "source": [
    "df.isnull().sum()"
   ]
  },
  {
   "cell_type": "code",
   "execution_count": 76,
   "metadata": {},
   "outputs": [],
   "source": [
    "# Removing duplicate rows\n",
    "\n",
    "df = df.drop_duplicates()"
   ]
  },
  {
   "cell_type": "code",
   "execution_count": 78,
   "metadata": {},
   "outputs": [],
   "source": [
    "df.to_csv(\"player_allstar.csv\")"
   ]
  },
  {
   "cell_type": "markdown",
   "metadata": {},
   "source": [
    "## player_playoffs.csv dataset"
   ]
  },
  {
   "cell_type": "code",
   "execution_count": 83,
   "metadata": {},
   "outputs": [],
   "source": [
    "df = pd.read_csv(\"player_playoffs.csv\")"
   ]
  },
  {
   "cell_type": "code",
   "execution_count": 84,
   "metadata": {},
   "outputs": [
    {
     "data": {
      "text/plain": [
       "Index(['ilkid', 'year', 'firstname', 'lastname', 'team', 'leag', 'gp',\n",
       "       'minutes', 'pts', 'dreb', 'oreb', 'reb', 'asts', 'stl', 'blk',\n",
       "       'turnover', 'pf', 'fga', 'fgm', 'fta', 'ftm', 'tpa', 'tpm'],\n",
       "      dtype='object')"
      ]
     },
     "execution_count": 84,
     "metadata": {},
     "output_type": "execute_result"
    }
   ],
   "source": [
    "df.columns"
   ]
  },
  {
   "cell_type": "code",
   "execution_count": 85,
   "metadata": {},
   "outputs": [
    {
     "data": {
      "text/plain": [
       "ilkid        object\n",
       "year          int64\n",
       "firstname    object\n",
       "lastname     object\n",
       "team         object\n",
       "leag         object\n",
       "gp            int64\n",
       "minutes       int64\n",
       "pts           int64\n",
       "dreb          int64\n",
       "oreb          int64\n",
       "reb           int64\n",
       "asts          int64\n",
       "stl           int64\n",
       "blk           int64\n",
       "turnover      int64\n",
       "pf            int64\n",
       "fga           int64\n",
       "fgm           int64\n",
       "fta           int64\n",
       "ftm           int64\n",
       "tpa           int64\n",
       "tpm           int64\n",
       "dtype: object"
      ]
     },
     "execution_count": 85,
     "metadata": {},
     "output_type": "execute_result"
    }
   ],
   "source": [
    "df.dtypes"
   ]
  },
  {
   "cell_type": "code",
   "execution_count": 86,
   "metadata": {},
   "outputs": [
    {
     "data": {
      "text/plain": [
       "ilkid        0\n",
       "year         0\n",
       "firstname    0\n",
       "lastname     0\n",
       "team         0\n",
       "leag         0\n",
       "gp           0\n",
       "minutes      0\n",
       "pts          0\n",
       "dreb         0\n",
       "oreb         0\n",
       "reb          0\n",
       "asts         0\n",
       "stl          0\n",
       "blk          0\n",
       "turnover     0\n",
       "pf           0\n",
       "fga          0\n",
       "fgm          0\n",
       "fta          0\n",
       "ftm          0\n",
       "tpa          0\n",
       "tpm          0\n",
       "dtype: int64"
      ]
     },
     "execution_count": 86,
     "metadata": {},
     "output_type": "execute_result"
    }
   ],
   "source": [
    "df.isnull().sum()"
   ]
  },
  {
   "cell_type": "code",
   "execution_count": 87,
   "metadata": {},
   "outputs": [],
   "source": [
    "# Removing duplicate rows\n",
    "\n",
    "df = df.drop_duplicates()"
   ]
  },
  {
   "cell_type": "code",
   "execution_count": 88,
   "metadata": {},
   "outputs": [],
   "source": [
    "df.to_csv(\"player_playoffs.csv\")"
   ]
  },
  {
   "cell_type": "markdown",
   "metadata": {},
   "source": [
    "## player_playoffs_career.csv"
   ]
  },
  {
   "cell_type": "code",
   "execution_count": 89,
   "metadata": {},
   "outputs": [],
   "source": [
    "df = pd.read_csv(\"player_playoffs_career.csv\")"
   ]
  },
  {
   "cell_type": "code",
   "execution_count": 90,
   "metadata": {},
   "outputs": [
    {
     "data": {
      "text/plain": [
       "Index(['ilkid', 'firstname', 'lastname', 'leag', 'gp', 'minutes', 'pts',\n",
       "       'dreb', 'oreb', 'reb', 'asts', 'stl', 'blk', 'turnover', 'pf', 'fga',\n",
       "       'fgm', 'fta', 'ftm', 'tpa', 'tpm'],\n",
       "      dtype='object')"
      ]
     },
     "execution_count": 90,
     "metadata": {},
     "output_type": "execute_result"
    }
   ],
   "source": [
    "df.columns"
   ]
  },
  {
   "cell_type": "code",
   "execution_count": 91,
   "metadata": {},
   "outputs": [
    {
     "data": {
      "text/plain": [
       "ilkid        object\n",
       "firstname    object\n",
       "lastname     object\n",
       "leag         object\n",
       "gp            int64\n",
       "minutes       int64\n",
       "pts           int64\n",
       "dreb          int64\n",
       "oreb          int64\n",
       "reb           int64\n",
       "asts          int64\n",
       "stl           int64\n",
       "blk           int64\n",
       "turnover      int64\n",
       "pf            int64\n",
       "fga           int64\n",
       "fgm           int64\n",
       "fta           int64\n",
       "ftm           int64\n",
       "tpa           int64\n",
       "tpm           int64\n",
       "dtype: object"
      ]
     },
     "execution_count": 91,
     "metadata": {},
     "output_type": "execute_result"
    }
   ],
   "source": [
    "df.dtypes"
   ]
  },
  {
   "cell_type": "code",
   "execution_count": 92,
   "metadata": {},
   "outputs": [
    {
     "data": {
      "text/plain": [
       "ilkid        0\n",
       "firstname    0\n",
       "lastname     0\n",
       "leag         0\n",
       "gp           0\n",
       "minutes      0\n",
       "pts          0\n",
       "dreb         0\n",
       "oreb         0\n",
       "reb          0\n",
       "asts         0\n",
       "stl          0\n",
       "blk          0\n",
       "turnover     0\n",
       "pf           0\n",
       "fga          0\n",
       "fgm          0\n",
       "fta          0\n",
       "ftm          0\n",
       "tpa          0\n",
       "tpm          0\n",
       "dtype: int64"
      ]
     },
     "execution_count": 92,
     "metadata": {},
     "output_type": "execute_result"
    }
   ],
   "source": [
    "df.isnull().sum()"
   ]
  },
  {
   "cell_type": "code",
   "execution_count": 93,
   "metadata": {},
   "outputs": [],
   "source": [
    "# Removing duplicate rows\n",
    "\n",
    "df = df.drop_duplicates()"
   ]
  },
  {
   "cell_type": "code",
   "execution_count": 94,
   "metadata": {},
   "outputs": [],
   "source": [
    "df.to_csv(\"player_playoffs_career.csv\")"
   ]
  },
  {
   "cell_type": "markdown",
   "metadata": {},
   "source": [
    "## player_regular_season.csv dataset"
   ]
  },
  {
   "cell_type": "code",
   "execution_count": 95,
   "metadata": {},
   "outputs": [],
   "source": [
    "df = pd.read_csv(\"player_regular_season.csv\")"
   ]
  },
  {
   "cell_type": "code",
   "execution_count": 96,
   "metadata": {},
   "outputs": [
    {
     "data": {
      "text/plain": [
       "Index(['ilkid', 'year', 'firstname', 'lastname', 'team', 'leag', 'gp',\n",
       "       'minutes', 'pts', 'oreb', 'dreb', 'reb', 'asts', 'stl', 'blk',\n",
       "       'turnover', 'pf', 'fga', 'fgm', 'fta', 'ftm', 'tpa', 'tpm'],\n",
       "      dtype='object')"
      ]
     },
     "execution_count": 96,
     "metadata": {},
     "output_type": "execute_result"
    }
   ],
   "source": [
    "df.columns"
   ]
  },
  {
   "cell_type": "code",
   "execution_count": 97,
   "metadata": {},
   "outputs": [
    {
     "data": {
      "text/plain": [
       "ilkid         object\n",
       "year           int64\n",
       "firstname     object\n",
       "lastname      object\n",
       "team          object\n",
       "leag          object\n",
       "gp             int64\n",
       "minutes        int64\n",
       "pts            int64\n",
       "oreb           int64\n",
       "dreb           int64\n",
       "reb            int64\n",
       "asts           int64\n",
       "stl            int64\n",
       "blk            int64\n",
       "turnover     float64\n",
       "pf             int64\n",
       "fga            int64\n",
       "fgm            int64\n",
       "fta            int64\n",
       "ftm            int64\n",
       "tpa            int64\n",
       "tpm            int64\n",
       "dtype: object"
      ]
     },
     "execution_count": 97,
     "metadata": {},
     "output_type": "execute_result"
    }
   ],
   "source": [
    "df.dtypes"
   ]
  },
  {
   "cell_type": "code",
   "execution_count": 98,
   "metadata": {},
   "outputs": [
    {
     "data": {
      "text/plain": [
       "ilkid          0\n",
       "year           0\n",
       "firstname      0\n",
       "lastname       0\n",
       "team           0\n",
       "leag           0\n",
       "gp             0\n",
       "minutes        0\n",
       "pts            0\n",
       "oreb           0\n",
       "dreb           0\n",
       "reb            0\n",
       "asts           0\n",
       "stl            0\n",
       "blk            0\n",
       "turnover     294\n",
       "pf             0\n",
       "fga            0\n",
       "fgm            0\n",
       "fta            0\n",
       "ftm            0\n",
       "tpa            0\n",
       "tpm            0\n",
       "dtype: int64"
      ]
     },
     "execution_count": 98,
     "metadata": {},
     "output_type": "execute_result"
    }
   ],
   "source": [
    "df.isnull().sum()"
   ]
  },
  {
   "cell_type": "code",
   "execution_count": 99,
   "metadata": {},
   "outputs": [],
   "source": [
    "# Filling missing values with zeros\n",
    "\n",
    "df.fillna(0, inplace=True)"
   ]
  },
  {
   "cell_type": "code",
   "execution_count": 100,
   "metadata": {},
   "outputs": [
    {
     "data": {
      "text/plain": [
       "ilkid        0\n",
       "year         0\n",
       "firstname    0\n",
       "lastname     0\n",
       "team         0\n",
       "leag         0\n",
       "gp           0\n",
       "minutes      0\n",
       "pts          0\n",
       "oreb         0\n",
       "dreb         0\n",
       "reb          0\n",
       "asts         0\n",
       "stl          0\n",
       "blk          0\n",
       "turnover     0\n",
       "pf           0\n",
       "fga          0\n",
       "fgm          0\n",
       "fta          0\n",
       "ftm          0\n",
       "tpa          0\n",
       "tpm          0\n",
       "dtype: int64"
      ]
     },
     "execution_count": 100,
     "metadata": {},
     "output_type": "execute_result"
    }
   ],
   "source": [
    "df.isnull().sum()"
   ]
  },
  {
   "cell_type": "code",
   "execution_count": 101,
   "metadata": {},
   "outputs": [],
   "source": [
    "# Removing duplicate rows\n",
    "\n",
    "df = df.drop_duplicates()"
   ]
  },
  {
   "cell_type": "code",
   "execution_count": 103,
   "metadata": {},
   "outputs": [],
   "source": [
    "df.to_csv(\"player_regular_season.csv\")"
   ]
  },
  {
   "cell_type": "markdown",
   "metadata": {},
   "source": [
    "## player_regular_season_career.csv dataset"
   ]
  },
  {
   "cell_type": "code",
   "execution_count": 104,
   "metadata": {},
   "outputs": [],
   "source": [
    "df = pd.read_csv(\"player_regular_season_career.csv\")"
   ]
  },
  {
   "cell_type": "code",
   "execution_count": 105,
   "metadata": {},
   "outputs": [
    {
     "data": {
      "text/plain": [
       "Index(['ilkid', 'firstname', 'lastname', 'leag', 'gp', 'minutes', 'pts',\n",
       "       'oreb', 'dreb', 'reb', 'asts', 'stl', 'blk', 'turnover', 'pf', 'fga',\n",
       "       'fgm', 'fta', 'ftm', 'tpa', 'tpm'],\n",
       "      dtype='object')"
      ]
     },
     "execution_count": 105,
     "metadata": {},
     "output_type": "execute_result"
    }
   ],
   "source": [
    "df.columns"
   ]
  },
  {
   "cell_type": "code",
   "execution_count": 106,
   "metadata": {},
   "outputs": [
    {
     "data": {
      "text/plain": [
       "ilkid        object\n",
       "firstname    object\n",
       "lastname     object\n",
       "leag         object\n",
       "gp            int64\n",
       "minutes       int64\n",
       "pts           int64\n",
       "oreb          int64\n",
       "dreb          int64\n",
       "reb           int64\n",
       "asts          int64\n",
       "stl           int64\n",
       "blk           int64\n",
       "turnover      int64\n",
       "pf            int64\n",
       "fga           int64\n",
       "fgm           int64\n",
       "fta           int64\n",
       "ftm           int64\n",
       "tpa           int64\n",
       "tpm           int64\n",
       "dtype: object"
      ]
     },
     "execution_count": 106,
     "metadata": {},
     "output_type": "execute_result"
    }
   ],
   "source": [
    "df.dtypes"
   ]
  },
  {
   "cell_type": "code",
   "execution_count": 107,
   "metadata": {},
   "outputs": [
    {
     "data": {
      "text/plain": [
       "ilkid        0\n",
       "firstname    0\n",
       "lastname     0\n",
       "leag         0\n",
       "gp           0\n",
       "minutes      0\n",
       "pts          0\n",
       "oreb         0\n",
       "dreb         0\n",
       "reb          0\n",
       "asts         0\n",
       "stl          0\n",
       "blk          0\n",
       "turnover     0\n",
       "pf           0\n",
       "fga          0\n",
       "fgm          0\n",
       "fta          0\n",
       "ftm          0\n",
       "tpa          0\n",
       "tpm          0\n",
       "dtype: int64"
      ]
     },
     "execution_count": 107,
     "metadata": {},
     "output_type": "execute_result"
    }
   ],
   "source": [
    "df.isnull().sum()"
   ]
  },
  {
   "cell_type": "code",
   "execution_count": 108,
   "metadata": {},
   "outputs": [],
   "source": [
    "# Removing duplicate rows\n",
    "\n",
    "df = df.drop_duplicates()"
   ]
  },
  {
   "cell_type": "code",
   "execution_count": 109,
   "metadata": {},
   "outputs": [],
   "source": [
    "df.to_csv(\"player_regular_season_career.csv\")"
   ]
  },
  {
   "cell_type": "markdown",
   "metadata": {},
   "source": [
    "## teams.csv dataset"
   ]
  },
  {
   "cell_type": "code",
   "execution_count": 111,
   "metadata": {},
   "outputs": [],
   "source": [
    "df = pd.read_csv(\"teams.csv\")"
   ]
  },
  {
   "cell_type": "code",
   "execution_count": 112,
   "metadata": {},
   "outputs": [
    {
     "data": {
      "text/plain": [
       "Index(['team', 'location', 'name', 'leag'], dtype='object')"
      ]
     },
     "execution_count": 112,
     "metadata": {},
     "output_type": "execute_result"
    }
   ],
   "source": [
    "df.columns"
   ]
  },
  {
   "cell_type": "code",
   "execution_count": 113,
   "metadata": {},
   "outputs": [
    {
     "data": {
      "text/plain": [
       "team        object\n",
       "location    object\n",
       "name        object\n",
       "leag        object\n",
       "dtype: object"
      ]
     },
     "execution_count": 113,
     "metadata": {},
     "output_type": "execute_result"
    }
   ],
   "source": [
    "df.dtypes"
   ]
  },
  {
   "cell_type": "code",
   "execution_count": 114,
   "metadata": {},
   "outputs": [
    {
     "data": {
      "text/plain": [
       "team        0\n",
       "location    0\n",
       "name        1\n",
       "leag        0\n",
       "dtype: int64"
      ]
     },
     "execution_count": 114,
     "metadata": {},
     "output_type": "execute_result"
    }
   ],
   "source": [
    "df.isnull().sum()"
   ]
  },
  {
   "cell_type": "code",
   "execution_count": 115,
   "metadata": {},
   "outputs": [],
   "source": [
    "# drop row with null value\n",
    "df = df.dropna(how='any',axis=0) "
   ]
  },
  {
   "cell_type": "code",
   "execution_count": 116,
   "metadata": {},
   "outputs": [
    {
     "data": {
      "text/plain": [
       "team        0\n",
       "location    0\n",
       "name        0\n",
       "leag        0\n",
       "dtype: int64"
      ]
     },
     "execution_count": 116,
     "metadata": {},
     "output_type": "execute_result"
    }
   ],
   "source": [
    "df.isnull().sum()"
   ]
  },
  {
   "cell_type": "code",
   "execution_count": 117,
   "metadata": {},
   "outputs": [],
   "source": [
    "# Removing duplicate rows\n",
    "\n",
    "df = df.drop_duplicates()"
   ]
  },
  {
   "cell_type": "code",
   "execution_count": 118,
   "metadata": {},
   "outputs": [],
   "source": [
    "df.to_csv(\"teams.csv\")"
   ]
  },
  {
   "cell_type": "markdown",
   "metadata": {},
   "source": [
    "## team_season.csv dataset"
   ]
  },
  {
   "cell_type": "code",
   "execution_count": 119,
   "metadata": {},
   "outputs": [],
   "source": [
    "df = pd.read_csv(\"team_season.csv\")"
   ]
  },
  {
   "cell_type": "code",
   "execution_count": 120,
   "metadata": {},
   "outputs": [
    {
     "data": {
      "text/plain": [
       "Index(['team', 'year', 'leag', 'o_fgm', 'o_fga', 'o_ftm', 'o_fta', 'o_oreb',\n",
       "       'o_dreb', 'o_reb', 'o_asts', 'o_pf', 'o_stl', 'o_to', 'o_blk', 'o_3pm',\n",
       "       'o_3pa', 'o_pts', 'd_fgm', 'd_fga', 'd_ftm', 'd_fta', 'd_oreb',\n",
       "       'd_dreb', 'd_reb', 'd_asts', 'd_pf', 'd_stl', 'd_to', 'd_blk', 'd_3pm',\n",
       "       'd_3pa', 'd_pts', 'pace', 'won', 'lost'],\n",
       "      dtype='object')"
      ]
     },
     "execution_count": 120,
     "metadata": {},
     "output_type": "execute_result"
    }
   ],
   "source": [
    "df.columns"
   ]
  },
  {
   "cell_type": "code",
   "execution_count": 121,
   "metadata": {},
   "outputs": [
    {
     "data": {
      "text/plain": [
       "team       object\n",
       "year        int64\n",
       "leag       object\n",
       "o_fgm       int64\n",
       "o_fga       int64\n",
       "o_ftm       int64\n",
       "o_fta       int64\n",
       "o_oreb      int64\n",
       "o_dreb      int64\n",
       "o_reb       int64\n",
       "o_asts      int64\n",
       "o_pf        int64\n",
       "o_stl       int64\n",
       "o_to        int64\n",
       "o_blk       int64\n",
       "o_3pm       int64\n",
       "o_3pa       int64\n",
       "o_pts       int64\n",
       "d_fgm       int64\n",
       "d_fga       int64\n",
       "d_ftm       int64\n",
       "d_fta       int64\n",
       "d_oreb      int64\n",
       "d_dreb      int64\n",
       "d_reb       int64\n",
       "d_asts      int64\n",
       "d_pf        int64\n",
       "d_stl       int64\n",
       "d_to        int64\n",
       "d_blk       int64\n",
       "d_3pm       int64\n",
       "d_3pa       int64\n",
       "d_pts       int64\n",
       "pace      float64\n",
       "won         int64\n",
       "lost        int64\n",
       "dtype: object"
      ]
     },
     "execution_count": 121,
     "metadata": {},
     "output_type": "execute_result"
    }
   ],
   "source": [
    "df.dtypes"
   ]
  },
  {
   "cell_type": "code",
   "execution_count": 122,
   "metadata": {},
   "outputs": [
    {
     "data": {
      "text/plain": [
       "team      0\n",
       "year      0\n",
       "leag      0\n",
       "o_fgm     0\n",
       "o_fga     0\n",
       "o_ftm     0\n",
       "o_fta     0\n",
       "o_oreb    0\n",
       "o_dreb    0\n",
       "o_reb     0\n",
       "o_asts    0\n",
       "o_pf      0\n",
       "o_stl     0\n",
       "o_to      0\n",
       "o_blk     0\n",
       "o_3pm     0\n",
       "o_3pa     0\n",
       "o_pts     0\n",
       "d_fgm     0\n",
       "d_fga     0\n",
       "d_ftm     0\n",
       "d_fta     0\n",
       "d_oreb    0\n",
       "d_dreb    0\n",
       "d_reb     0\n",
       "d_asts    0\n",
       "d_pf      0\n",
       "d_stl     0\n",
       "d_to      0\n",
       "d_blk     0\n",
       "d_3pm     0\n",
       "d_3pa     0\n",
       "d_pts     0\n",
       "pace      0\n",
       "won       0\n",
       "lost      0\n",
       "dtype: int64"
      ]
     },
     "execution_count": 122,
     "metadata": {},
     "output_type": "execute_result"
    }
   ],
   "source": [
    "df.isnull().sum()"
   ]
  },
  {
   "cell_type": "code",
   "execution_count": 123,
   "metadata": {},
   "outputs": [],
   "source": [
    "# Removing duplicate rows\n",
    "\n",
    "df = df.drop_duplicates()"
   ]
  },
  {
   "cell_type": "code",
   "execution_count": 124,
   "metadata": {},
   "outputs": [],
   "source": [
    "df.to_csv(\"team_season.csv\")"
   ]
  },
  {
   "cell_type": "code",
   "execution_count": null,
   "metadata": {},
   "outputs": [],
   "source": []
  }
 ],
 "metadata": {
  "kernelspec": {
   "display_name": "Python 3",
   "language": "python",
   "name": "python3"
  },
  "language_info": {
   "codemirror_mode": {
    "name": "ipython",
    "version": 3
   },
   "file_extension": ".py",
   "mimetype": "text/x-python",
   "name": "python",
   "nbconvert_exporter": "python",
   "pygments_lexer": "ipython3",
   "version": "3.8.5"
  }
 },
 "nbformat": 4,
 "nbformat_minor": 4
}
